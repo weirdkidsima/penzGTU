{
  "nbformat": 4,
  "nbformat_minor": 0,
  "metadata": {
    "colab": {
      "provenance": []
    },
    "kernelspec": {
      "name": "python3",
      "display_name": "Python 3"
    },
    "language_info": {
      "name": "python"
    }
  },
  "cells": [
    {
      "cell_type": "code",
      "execution_count": null,
      "metadata": {
        "colab": {
          "base_uri": "https://localhost:8080/",
          "height": 772
        },
        "id": "aUPSRrr3THkV",
        "outputId": "ea42c3c7-ff7f-40f2-86f0-e6dc93129b8c"
      },
      "outputs": [
        {
          "output_type": "stream",
          "name": "stdout",
          "text": [
            "Интервальный ряд:\n",
            "[29.0-31.7): 5\n",
            "[31.7-34.4): 9\n",
            "[34.4-37.1): 22\n",
            "[37.1-39.9): 18\n",
            "[39.9-42.6): 30\n",
            "[42.6-45.3): 9\n",
            "[45.3-48.0): 7\n",
            "\n",
            "Выборочная средняя: 38.75\n",
            "Выборочная дисперсия: 17.35\n",
            "Выборочное СКО: 4.17\n"
          ]
        },
        {
          "output_type": "display_data",
          "data": {
            "text/plain": [
              "<Figure size 1000x600 with 1 Axes>"
            ],
            "image/png": "[encoded data removed]"
          },
          "metadata": {}
        }
      ],
      "source": [
        "import numpy as np\n",
        "import matplotlib.pyplot as plt\n",
        "from collections import Counter\n",
        "\n",
        "# Исходные данные (в виде списка)\n",
        "data = [\n",
        "    46, 34, 39, 40, 36, 46, 40, 41, 48, 41,\n",
        "    46, 38, 39, 41, 38, 36, 36, 43, 37, 39,\n",
        "    35, 32, 39, 31, 40, 43, 41, 43, 37, 34,\n",
        "    42, 39, 29, 32, 42, 38, 39, 35, 42, 45,\n",
        "    41, 35, 40, 37, 37, 39, 36, 41, 37, 35,\n",
        "    38, 46, 44, 37, 38, 29, 38, 42, 38, 38,\n",
        "    36, 32, 33, 37, 42, 45, 44, 40, 40, 42,\n",
        "    29, 34, 40, 35, 32, 47, 41, 43, 41, 40,\n",
        "    41, 31, 40, 32, 38, 37, 41, 36, 39, 48,\n",
        "    39, 41, 41, 41, 35, 40, 40, 36, 43, 35\n",
        "]\n",
        "\n",
        "# 1. Интервальный ряд\n",
        "n = len(data)  # n = 100\n",
        "min_val, max_val = min(data), max(data)\n",
        "k = int(1 + 3.322 * np.log10(n))  # Формула Стёрджеса\n",
        "h = (max_val - min_val) / k  # Ширина интервала\n",
        "\n",
        "bins = np.linspace(min_val, max_val, k + 1)  # Границы интервалов\n",
        "hist, bin_edges = np.histogram(data, bins=bins)\n",
        "\n",
        "# Таблица интервалов\n",
        "print(\"Интервальный ряд:\")\n",
        "for i in range(len(hist)):\n",
        "    print(f\"[{bin_edges[i]:.1f}-{bin_edges[i+1]:.1f}): {hist[i]}\")\n",
        "\n",
        "# 2. Выборочные характеристики\n",
        "mean = np.mean(data)  # Выборочная средняя\n",
        "variance = np.var(data, ddof=0)  # Выборочная дисперсия (несмещённая)\n",
        "std_dev = np.sqrt(variance)  # СКО\n",
        "\n",
        "print(f\"\\nВыборочная средняя: {mean:.2f}\")\n",
        "print(f\"Выборочная дисперсия: {variance:.2f}\")\n",
        "print(f\"Выборочное СКО: {std_dev:.2f}\")\n",
        "\n",
        "# 3. Эмпирическая функция распределения (F*(x))\n",
        "sorted_data = np.sort(data)\n",
        "y = np.arange(1, n + 1) / n  # Накопленные частоты\n",
        "\n",
        "# График\n",
        "plt.figure(figsize=(10, 6))\n",
        "plt.step(sorted_data, y, where='post', label='F*(x)')\n",
        "plt.title('Эмпирическая функция распределения')\n",
        "plt.xlabel('Значения X')\n",
        "plt.ylabel('F*(x)')\n",
        "plt.grid(True)\n",
        "plt.legend()\n",
        "plt.show()"
      ]
    },
    {
      "cell_type": "code",
      "source": [
        "import numpy as np\n",
        "from scipy.stats import linregress\n",
        "\n",
        "# Исходные данные из корреляционной таблицы\n",
        "x_values = [5, 7, 9, 11, 13, 15]  # Значения X\n",
        "y_values = [2, 6, 10, 14, 18]      # Значения Y\n",
        "\n",
        "# Матрица частот n_ij (строки - x_values, столбцы - y_values)\n",
        "frequencies = np.array([\n",
        "    [2, 7, 0, 0, 0],    # x=5\n",
        "    [5, 21, 9, 0, 0],   # x=7\n",
        "    [0, 6, 27, 2, 0],   # x=9\n",
        "    [0, 1, 4, 6, 0],    # x=11\n",
        "    [0, 0, 1, 3, 2],    # x=13\n",
        "    [0, 0, 0, 2, 1]     # x=15\n",
        "])\n",
        "\n",
        "# Создание массивов данных с учетом частот\n",
        "x_data = []\n",
        "y_data = []\n",
        "for i, x in enumerate(x_values):\n",
        "    for j, y in enumerate(y_values):\n",
        "        count = frequencies[i, j]\n",
        "        if count > 0:\n",
        "            x_data.extend([x] * count)\n",
        "            y_data.extend([y] * count)\n",
        "\n",
        "# Преобразование в numpy массивы\n",
        "x_data = np.array(x_data)\n",
        "y_data = np.array(y_data)\n",
        "\n",
        "# Расчет коэффициентов регрессии вручную\n",
        "cov_xy = np.cov(x_data, y_data, ddof=0)[0, 1]  # Ковариация\n",
        "var_x = np.var(x_data, ddof=0)                 # Дисперсия X\n",
        "mean_x = np.mean(x_data)                       # Среднее X\n",
        "mean_y = np.mean(y_data)                       # Среднее Y\n",
        "\n",
        "a = cov_xy / var_x                             # Наклон (slope)\n",
        "b = mean_y - a * mean_x                        # Перехват (intercept)\n",
        "\n",
        "# Проверка с помощью scipy.stats.linregress\n",
        "slope, intercept, r_value, p_value, std_err = linregress(x_data, y_data)\n",
        "\n",
        "# Вывод результатов\n",
        "print(\"Результаты расчета:\")\n",
        "print(f\"Уравнение линейной регрессии: y = {a:.4f}x + {b:.4f}\")\n",
        "print(f\"Проверка (scipy): y = {slope:.4f}x + {intercept:.4f}\")\n",
        "print(f\"Коэффициент корреляции (r): {r_value:.4f}\")"
      ],
      "metadata": {
        "id": "kzsFEsdPdNZZ",
        "colab": {
          "base_uri": "https://localhost:8080/"
        },
        "outputId": "941c7f71-1c27-4b7c-b5bd-6e48aa82e2b8"
      },
      "execution_count": 1,
      "outputs": [
        {
          "output_type": "stream",
          "name": "stdout",
          "text": [
            "Результаты расчета:\n",
            "Уравнение линейной регрессии: y = 1.2079x + -1.5710\n",
            "Проверка (scipy): y = 1.2079x + -1.5710\n",
            "Коэффициент корреляции (r): 0.7709\n"
          ]
        }
      ]
    }
  ]
}